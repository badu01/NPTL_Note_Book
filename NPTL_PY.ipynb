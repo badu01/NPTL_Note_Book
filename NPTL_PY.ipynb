{
  "cells": [
    {
      "cell_type": "markdown",
      "metadata": {},
      "source": [
        "# week3"
      ]
    },
    {
      "cell_type": "code",
      "execution_count": 1,
      "metadata": {
        "trusted": true
      },
      "outputs": [
        {
          "name": "stdout",
          "output_type": "stream",
          "text": [
            "Hiiii\n"
          ]
        }
      ],
      "source": [
        "print(\"Hiiii\")"
      ]
    },
    {
      "cell_type": "code",
      "execution_count": 2,
      "metadata": {
        "trusted": true
      },
      "outputs": [
        {
          "name": "stdout",
          "output_type": "stream",
          "text": [
            "badu\n",
            "fasee\n",
            "isha\n"
          ]
        }
      ],
      "source": [
        "listt=[\"badu\",\"fasee\",\"isha\"]\n",
        "for item in listt:\n",
        "    print(item)"
      ]
    },
    {
      "cell_type": "code",
      "execution_count": 3,
      "metadata": {
        "trusted": true
      },
      "outputs": [
        {
          "name": "stdout",
          "output_type": "stream",
          "text": [
            "badu\n"
          ]
        }
      ],
      "source": [
        "print(listt[0])"
      ]
    },
    {
      "cell_type": "code",
      "execution_count": 4,
      "metadata": {
        "trusted": true
      },
      "outputs": [
        {
          "data": {
            "text/plain": [
              "['pareed', 'badu', 'fasee', 'isha', 'afsal']"
            ]
          },
          "execution_count": 4,
          "metadata": {},
          "output_type": "execute_result"
        }
      ],
      "source": [
        "listt.append(\"afsal\")\n",
        "listt.insert(0,\"pareed\")\n",
        "listt"
      ]
    },
    {
      "cell_type": "code",
      "execution_count": 5,
      "metadata": {
        "trusted": true
      },
      "outputs": [
        {
          "data": {
            "text/plain": [
              "1"
            ]
          },
          "execution_count": 5,
          "metadata": {},
          "output_type": "execute_result"
        }
      ],
      "source": [
        "listt.count(\"badu\")"
      ]
    },
    {
      "cell_type": "code",
      "execution_count": 6,
      "metadata": {
        "trusted": true
      },
      "outputs": [
        {
          "data": {
            "text/plain": [
              "2"
            ]
          },
          "execution_count": 6,
          "metadata": {},
          "output_type": "execute_result"
        }
      ],
      "source": [
        "listt.append(\"badu\")\n",
        "listt.count(\"badu\")"
      ]
    },
    {
      "cell_type": "code",
      "execution_count": 7,
      "metadata": {
        "trusted": true
      },
      "outputs": [
        {
          "data": {
            "text/plain": [
              "6"
            ]
          },
          "execution_count": 7,
          "metadata": {},
          "output_type": "execute_result"
        }
      ],
      "source": [
        "len(listt)"
      ]
    },
    {
      "cell_type": "code",
      "execution_count": 8,
      "metadata": {
        "trusted": true
      },
      "outputs": [
        {
          "data": {
            "text/plain": [
              "['pareed', 'badu', 'fasee', 'isha', 'afsal', 'badu']"
            ]
          },
          "execution_count": 8,
          "metadata": {},
          "output_type": "execute_result"
        }
      ],
      "source": [
        "listt"
      ]
    },
    {
      "cell_type": "code",
      "execution_count": 9,
      "metadata": {
        "trusted": true
      },
      "outputs": [],
      "source": [
        "listt.sort()"
      ]
    },
    {
      "cell_type": "code",
      "execution_count": 10,
      "metadata": {
        "trusted": true
      },
      "outputs": [
        {
          "data": {
            "text/plain": [
              "['afsal', 'badu', 'badu', 'fasee', 'isha', 'pareed']"
            ]
          },
          "execution_count": 10,
          "metadata": {},
          "output_type": "execute_result"
        }
      ],
      "source": [
        "listt"
      ]
    },
    {
      "cell_type": "code",
      "execution_count": 54,
      "metadata": {
        "trusted": true
      },
      "outputs": [
        {
          "ename": "NameError",
          "evalue": "name 'listt' is not defined",
          "output_type": "error",
          "traceback": [
            "\u001b[1;31m---------------------------------------------------------------------------\u001b[0m",
            "\u001b[1;31mNameError\u001b[0m                                 Traceback (most recent call last)",
            "Cell \u001b[1;32mIn[54], line 1\u001b[0m\n\u001b[1;32m----> 1\u001b[0m \u001b[43mlistt\u001b[49m\u001b[38;5;241m.\u001b[39mreverse()\n\u001b[0;32m      2\u001b[0m listt\n",
            "\u001b[1;31mNameError\u001b[0m: name 'listt' is not defined"
          ]
        }
      ],
      "source": [
        "listt.reverse()\n",
        "listt"
      ]
    },
    {
      "cell_type": "code",
      "execution_count": 13,
      "metadata": {
        "trusted": true
      },
      "outputs": [
        {
          "data": {
            "text/plain": [
              "['pareed', 'isha', 'fasee']"
            ]
          },
          "execution_count": 13,
          "metadata": {},
          "output_type": "execute_result"
        }
      ],
      "source": [
        "trim = listt[0:3]\n",
        "trim"
      ]
    },
    {
      "cell_type": "code",
      "execution_count": 21,
      "metadata": {
        "trusted": true
      },
      "outputs": [
        {
          "name": "stdout",
          "output_type": "stream",
          "text": [
            "3= fizz\n",
            "5= buzz\n",
            "6= fizz\n",
            "9= fizz\n",
            "10= buzz\n",
            "12= fizz\n",
            "15= fizz buzz\n",
            "18= fizz\n",
            "20= buzz\n",
            "21= fizz\n",
            "24= fizz\n",
            "25= buzz\n",
            "27= fizz\n",
            "30= fizz buzz\n",
            "33= fizz\n",
            "35= buzz\n",
            "36= fizz\n",
            "39= fizz\n",
            "40= buzz\n",
            "42= fizz\n",
            "45= fizz buzz\n",
            "48= fizz\n",
            "50= buzz\n"
          ]
        }
      ],
      "source": [
        "for i in range(1,51):\n",
        "    if(i%3==0 and i%5==0):\n",
        "        print(str(i)+\"= fizz buzz\")\n",
        "    else:\n",
        "        if(i%5==0):\n",
        "            print(str(i)+\"= buzz\")\n",
        "        else:\n",
        "            if(i%3==0):\n",
        "                print(str(i)+\"= fizz\")"
      ]
    },
    {
      "cell_type": "markdown",
      "metadata": {},
      "source": [
        "## Crowd Computing"
      ]
    },
    {
      "cell_type": "code",
      "execution_count": 1,
      "metadata": {
        "trusted": true
      },
      "outputs": [
        {
          "name": "stdout",
          "output_type": "stream",
          "text": [
            "147.4375\n"
          ]
        }
      ],
      "source": [
        "from statistics import mean\n",
        "values=[99,100,101,120,130,150,200,300,350,80,121,131,125,175,160,168,179,129,180,190]\n",
        "values.sort()\n",
        "trimValue=int(0.1*len(values))\n",
        "values=values[trimValue:len(values)-trimValue]\n",
        "print(mean(values))"
      ]
    },
    {
      "cell_type": "code",
      "execution_count": 2,
      "metadata": {},
      "outputs": [
        {
          "name": "stdout",
          "output_type": "stream",
          "text": [
            "147.4375\n"
          ]
        }
      ],
      "source": [
        "from scipy  import stats\n",
        "values=[99,100,101,120,130,150,200,300,350,80,121,131,125,175,160,168,179,129,180,190]\n",
        "print(stats.trim_mean(values,0.1))"
      ]
    },
    {
      "cell_type": "code",
      "execution_count": 3,
      "metadata": {},
      "outputs": [
        {
          "data": {
            "text/plain": [
              "Text(0.5, 0, 'numbers')"
            ]
          },
          "execution_count": 3,
          "metadata": {},
          "output_type": "execute_result"
        },
        {
          "data": {
            "image/png": "[encoded data removed]",
            "text/plain": [
              "<Figure size 640x480 with 1 Axes>"
            ]
          },
          "metadata": {},
          "output_type": "display_data"
        }
      ],
      "source": [
        "import matplotlib.pyplot as plt\n",
        "plt.plot([1,2,3,4],[1,4,9,16])\n",
        "plt.ylabel('squares')\n",
        "plt.xlabel('numbers')"
      ]
    },
    {
      "cell_type": "code",
      "execution_count": 4,
      "metadata": {},
      "outputs": [
        {
          "data": {
            "text/plain": [
              "Text(0.5, 0, 'numbers')"
            ]
          },
          "execution_count": 4,
          "metadata": {},
          "output_type": "execute_result"
        },
        {
          "data": {
            "image/png": "[encoded data removed]",
            "text/plain": [
              "<Figure size 640x480 with 1 Axes>"
            ]
          },
          "metadata": {},
          "output_type": "display_data"
        }
      ],
      "source": [
        "import matplotlib.pyplot as plt\n",
        "plt.plot([1,2,3,4],[1,4,9,16],'ro')\n",
        "plt.ylabel('squares')\n",
        "plt.xlabel('numbers')"
      ]
    },
    {
      "cell_type": "code",
      "execution_count": 5,
      "metadata": {},
      "outputs": [
        {
          "data": {
            "text/plain": [
              "Text(0.5, 0, 'numbers')"
            ]
          },
          "execution_count": 5,
          "metadata": {},
          "output_type": "execute_result"
        },
        {
          "data": {
            "image/png": "[encoded data removed]",
            "text/plain": [
              "<Figure size 640x480 with 1 Axes>"
            ]
          },
          "metadata": {},
          "output_type": "display_data"
        }
      ],
      "source": [
        "import matplotlib.pyplot as plt\n",
        "plt.plot([1,2,3,4],[1,4,9,16],'g--')\n",
        "plt.ylabel('squares')\n",
        "plt.xlabel('numbers')"
      ]
    },
    {
      "cell_type": "code",
      "execution_count": 6,
      "metadata": {},
      "outputs": [
        {
          "data": {
            "text/plain": [
              "Text(0.5, 0, 'numbers')"
            ]
          },
          "execution_count": 6,
          "metadata": {},
          "output_type": "execute_result"
        },
        {
          "data": {
            "image/png": "[encoded data removed]",
            "text/plain": [
              "<Figure size 640x480 with 1 Axes>"
            ]
          },
          "metadata": {},
          "output_type": "display_data"
        }
      ],
      "source": [
        "import matplotlib.pyplot as plt\n",
        "plt.plot([1,2,3,4],[1,4,9,16],'bs')\n",
        "plt.ylabel('squares')\n",
        "plt.xlabel('numbers')"
      ]
    },
    {
      "cell_type": "code",
      "execution_count": 7,
      "metadata": {},
      "outputs": [
        {
          "data": {
            "text/plain": [
              "Text(0.5, 0, 'numbers')"
            ]
          },
          "execution_count": 7,
          "metadata": {},
          "output_type": "execute_result"
        },
        {
          "data": {
            "image/png": "[encoded data removed]",
            "text/plain": [
              "<Figure size 640x480 with 1 Axes>"
            ]
          },
          "metadata": {},
          "output_type": "display_data"
        }
      ],
      "source": [
        "import matplotlib.pyplot as plt\n",
        "plt.plot([1,2,3,4],[1,4,9,16],'r^')\n",
        "plt.ylabel('squares')\n",
        "plt.xlabel('numbers')"
      ]
    },
    {
      "cell_type": "code",
      "execution_count": 8,
      "metadata": {},
      "outputs": [
        {
          "data": {
            "text/plain": [
              "[<matplotlib.lines.Line2D at 0x1b646d20f10>]"
            ]
          },
          "execution_count": 8,
          "metadata": {},
          "output_type": "execute_result"
        },
        {
          "data": {
            "image/png": "[encoded data removed]",
            "text/plain": [
              "<Figure size 640x480 with 1 Axes>"
            ]
          },
          "metadata": {},
          "output_type": "display_data"
        }
      ],
      "source": [
        "import matplotlib.pyplot as plt\n",
        "values=[99,100,101,120,130,150,200,300,350,80,121,131,125,175,160,168,179,129,180,190]\n",
        "plt.plot(values)\n"
      ]
    },
    {
      "cell_type": "code",
      "execution_count": 11,
      "metadata": {},
      "outputs": [
        {
          "data": {
            "text/plain": [
              "[<matplotlib.lines.Line2D at 0x1b646d23790>]"
            ]
          },
          "execution_count": 11,
          "metadata": {},
          "output_type": "execute_result"
        },
        {
          "data": {
            "image/png": "[encoded data removed]",
            "text/plain": [
              "<Figure size 640x480 with 1 Axes>"
            ]
          },
          "metadata": {},
          "output_type": "display_data"
        }
      ],
      "source": [
        "import matplotlib.pyplot as plt\n",
        "values=[99,100,101,120,130,150,200,300,350,80,121,131,125,175,160,168,179,129,180,190]\n",
        "y=[]\n",
        "for i in range (len(values)):\n",
        "    y.append(5)\n",
        "plt.plot(values,y,'g--')"
      ]
    },
    {
      "cell_type": "code",
      "execution_count": 14,
      "metadata": {},
      "outputs": [
        {
          "data": {
            "text/plain": [
              "[<matplotlib.lines.Line2D at 0x1b647dc1610>]"
            ]
          },
          "execution_count": 14,
          "metadata": {},
          "output_type": "execute_result"
        },
        {
          "data": {
            "image/png": "[encoded data removed]",
            "text/plain": [
              "<Figure size 640x480 with 1 Axes>"
            ]
          },
          "metadata": {},
          "output_type": "display_data"
        }
      ],
      "source": [
        "import matplotlib.pyplot as plt\n",
        "from statistics import mean\n",
        "values=[99,100,101,120,130,150,200,300,350,80,121,131,125,175,160,168,179,129,180,190]\n",
        "trimValue=int(0.1*len(values))\n",
        "values=values[trimValue:len(values)-trimValue]\n",
        "y=[]\n",
        "for i in range (len(values)):\n",
        "    y.append(5)\n",
        "plt.plot(values,y,'g--')\n",
        "plt.plot([155],[5],'b^')\n",
        "plt.plot([mean(values)],[5],'ro')"
      ]
    },
    {
      "cell_type": "markdown",
      "metadata": {},
      "source": [
        "## Permutations\n",
        "### Jumbled Words"
      ]
    },
    {
      "cell_type": "code",
      "execution_count": null,
      "metadata": {},
      "outputs": [],
      "source": [
        "import random\n",
        "def choose():\n",
        "    words=['rainbow','computer','science','programming','player','conditions','reverse','water','earth','moon','skill','flutter','bird']\n",
        "    return random.choice(words)\n",
        "def jumble(word):\n",
        "    return \"\".join(random.sample(word,len(word)))\n",
        "\n",
        "def thank(p1,p2,pp1,pp2):\n",
        "    print(p1,' score is : ',pp1)\n",
        "    print(p2,' score is : ',pp2)\n",
        "\n",
        "def play():\n",
        "    player1=input('enter player 1 name: ')\n",
        "    player2=input('enter player 2 name: ')\n",
        "    pp1=0\n",
        "    pp2=0\n",
        "    turn=0\n",
        "    while(1):\n",
        "        picked_word=choose()\n",
        "        qn=jumble(picked_word)\n",
        "        print('the jumbled word is ',qn)\n",
        "        if turn%2==0:\n",
        "            print(player1,\" turn\")\n",
        "            ans=input('Enter Your guss: ')\n",
        "            if ans == picked_word:\n",
        "                pp1=pp1+1\n",
        "                print(player1,' score is : ',pp1)\n",
        "                print(player2,' score is : ',pp2)\n",
        "            else:\n",
        "                print('wrong answer')\n",
        "            c=input(\"want to continue,Enter 1 for YES OR 0 for NO\")\n",
        "            print('yout choise is ', c)\n",
        "            if c == 0:\n",
        "                thank(player1,player1,pp1,pp2)\n",
        "                exit(0)\n",
        "        else:\n",
        "            print(player2,\" turn\")\n",
        "            ans=input('Enter Your guss: ')\n",
        "            if ans == picked_word:\n",
        "                pp2=pp2+1\n",
        "                print(player1,' score is : ',pp1)\n",
        "                print(player2,' score is : ',pp2)\n",
        "            else:\n",
        "                print('wrong answer')\n",
        "            c=input(\"want to continue,Enter 1 for YES OR 0 for NO\")\n",
        "            print('yout choise is ', c)\n",
        "            if c==0:\n",
        "                thank(player1,player1,pp1,pp2)\n",
        "                exit(0)\n",
        "        turn=turn+1\n",
        "play()"
      ]
    },
    {
      "cell_type": "markdown",
      "metadata": {},
      "source": [
        "## Theory of Evolution"
      ]
    },
    {
      "cell_type": "code",
      "execution_count": 18,
      "metadata": {},
      "outputs": [
        {
          "name": "stdout",
          "output_type": "stream",
          "text": [
            "hello, I am badu\n",
            "i am an engineer\n"
          ]
        }
      ],
      "source": [
        "with open(\"test.txt\",\"r+\") as myfile:\n",
        "    print(myfile.read())\n",
        "    myfile.write(\"\\ni am an engineer\")\n",
        "myfile.close()"
      ]
    },
    {
      "cell_type": "code",
      "execution_count": 19,
      "metadata": {},
      "outputs": [
        {
          "data": {
            "text/plain": [
              "0.46512473498872375"
            ]
          },
          "execution_count": 19,
          "metadata": {},
          "output_type": "execute_result"
        }
      ],
      "source": [
        "import random\n",
        "random.randint(1,5) #return a int including 5\n",
        "random.randrange(1,5) #return a int not including 5\n",
        "random.randrange(1,10,2) #return a int between 1 and 10 which take step 2 that mean only retun odd number ex:(1+2=3,5+2=7,7+2=9)\n",
        "random.random() #return decimal number between 0 and 1"
      ]
    },
    {
      "cell_type": "markdown",
      "metadata": {},
      "source": [
        "### ASSIGNMENT PROGRAM 1"
      ]
    },
    {
      "cell_type": "code",
      "execution_count": 22,
      "metadata": {},
      "outputs": [
        {
          "name": "stdout",
          "output_type": "stream",
          "text": [
            "4\n"
          ]
        }
      ],
      "source": [
        "# second largest number\n",
        "numbers=input()\n",
        "number_list=numbers.split()\n",
        "for i in range(len(number_list)):\n",
        "    number_list[i]=int(number_list[i])\n",
        "\n",
        "lg1=-1\n",
        "lg2=-1\n",
        "\n",
        "for i in range(len(number_list)):\n",
        "    if number_list[i]>lg1:\n",
        "        lg2=lg1\n",
        "        lg1=number_list[i]\n",
        "    elif number_list[i]>lg2 and number_list[i]!=lg1:\n",
        "        lg2=number_list[i]\n",
        "print(lg2)"
      ]
    },
    {
      "cell_type": "markdown",
      "metadata": {},
      "source": [
        "### ASSIGNMENT PROGRAM 2"
      ]
    },
    {
      "cell_type": "code",
      "execution_count": 24,
      "metadata": {},
      "outputs": [
        {
          "name": "stdout",
          "output_type": "stream",
          "text": [
            "1 2 3 4 5 6 "
          ]
        }
      ],
      "source": [
        "num_l=input()\n",
        "num_l=num_l.split()\n",
        "for i in range(len(num_l)):\n",
        "    num_l[i]=int(num_l[i])\n",
        "uniq=[]\n",
        "\n",
        "for number in num_l:\n",
        "    if number not in uniq:\n",
        "        uniq.append(number)\n",
        "for number in uniq: \n",
        "    print(number,end=\" \")"
      ]
    },
    {
      "cell_type": "markdown",
      "metadata": {},
      "source": [
        "### ASSIGNMENT PROGRAM 3"
      ]
    },
    {
      "cell_type": "code",
      "execution_count": 25,
      "metadata": {},
      "outputs": [
        {
          "name": "stdout",
          "output_type": "stream",
          "text": [
            "1 6 3 6 5 "
          ]
        }
      ],
      "source": [
        "num_l=input()\n",
        "num_l=num_l.split()\n",
        "for i in range(len(num_l)):\n",
        "    num_l[i]=int(num_l[i])\n",
        "\n",
        "rev_list=num_l[::-1]\n",
        "\n",
        "res=[]\n",
        "\n",
        "for i in range(len(num_l)):\n",
        "    if i%2==0:\n",
        "        res.append(num_l[i])\n",
        "    else:\n",
        "        res.append(rev_list[i]+num_l[i])\n",
        "\n",
        "for num in res:\n",
        "    print(num,end=' ')"
      ]
    },
    {
      "cell_type": "markdown",
      "metadata": {},
      "source": [
        "# WEEK 4"
      ]
    },
    {
      "cell_type": "markdown",
      "metadata": {},
      "source": [
        "## MAGIC SQUARE\n",
        "\n",
        "### fact\n",
        "for every nxn square <br>\n",
        "magic number M = n(n^2+1)/2 <br><br>\n",
        "\n",
        "### steps\n",
        "- position of 1 is always at (n/2,n-1) <br>\n",
        "- let (n/2,n-1) is (p,q), then the next number ie 2 will be at (p-1,q+1) when anytime row position become -1 make it n-1 and column position becomes n make it 0 <br>\n",
        "- if calculated position already have a number then decrement the column by 2 and increment the row by 1<br>\n",
        "- if any time row position becomes -1 and column becomes n, switch it to (0,n-2)<br>"
      ]
    },
    {
      "cell_type": "code",
      "execution_count": 36,
      "metadata": {},
      "outputs": [
        {
          "name": "stdout",
          "output_type": "stream",
          "text": [
            "0 0 0 \n",
            "0 0 0 \n",
            "0 0 0 \n",
            "2 7 6 \n",
            "9 5 1 \n",
            "4 3 8 \n"
          ]
        }
      ],
      "source": [
        "# magic square\n",
        "n=int(input(\"enter n: \"))\n",
        "\n",
        "# ms=[[0 for i n range(3)] for j in range(3)]    make the same \n",
        "\n",
        "ms=[]\n",
        "\n",
        "for i in range(n):\n",
        "    l=[]\n",
        "    for j in range(n):\n",
        "        l.append(0)\n",
        "    ms.append(l)\n",
        "\n",
        "for i in range(n):\n",
        "    for j in range(n):\n",
        "        print(ms[i][j],end=' ')\n",
        "    print()\n",
        "\n",
        "num=1\n",
        "\n",
        "p = int(n/2)\n",
        "q = int(n-1)\n",
        "\n",
        "limit=n*n\n",
        "\n",
        "while(num<=limit):\n",
        "    if p == -1 and q == n:\n",
        "        p=0\n",
        "        q=n-2\n",
        "    else:\n",
        "        if p < 0:\n",
        "            p=n-1\n",
        "        if q == n:\n",
        "            q = 0\n",
        "    if ms[p][q] != 0:\n",
        "        p=p+1\n",
        "        q=q-2\n",
        "        continue\n",
        "    else:\n",
        "        ms[p][q]=num\n",
        "        num=num+1\n",
        "    p = p-1\n",
        "    q = q+1\n",
        "for i in range(n):\n",
        "    for j in range(n):\n",
        "        print(ms[i][j],end=' ')\n",
        "    print()"
      ]
    },
    {
      "cell_type": "markdown",
      "metadata": {},
      "source": [
        "# Week 5"
      ]
    },
    {
      "cell_type": "markdown",
      "metadata": {},
      "source": [
        "## Week 5: Programming Assignment 1"
      ]
    },
    {
      "cell_type": "code",
      "execution_count": 37,
      "metadata": {},
      "outputs": [
        {
          "name": "stdout",
          "output_type": "stream",
          "text": [
            "2 "
          ]
        }
      ],
      "source": [
        "listt=input()\n",
        "key=int(input())\n",
        "\n",
        "listt=listt.split()\n",
        "index=-1\n",
        "\n",
        "for i in range(len(listt)):\n",
        "    listt[i]=int(listt[i])\n",
        "\n",
        "for i in range(len(listt)):\n",
        "    if listt[i]==key:\n",
        "        index=i\n",
        "        break\n",
        "\n",
        "print(index,end=' ')\n"
      ]
    },
    {
      "cell_type": "markdown",
      "metadata": {},
      "source": [
        "## Week 5: Programming Assignment 2"
      ]
    },
    {
      "cell_type": "code",
      "execution_count": 46,
      "metadata": {},
      "outputs": [
        {
          "name": "stdout",
          "output_type": "stream",
          "text": [
            "1 2 3 4 5 6 "
          ]
        }
      ],
      "source": [
        "list1=input()\n",
        "list2=input()\n",
        "\n",
        "list1=list1.split()\n",
        "list2=list2.split()\n",
        "\n",
        "for i in range(len(list1)):\n",
        "    list1[i]=int(list1[i])\n",
        "\n",
        "for i in range(len(list2)):\n",
        "    list2[i]=int(list2[i])\n",
        "\n",
        "\n",
        "\n",
        "for item in list2:\n",
        "    list1.append(item)\n",
        "\n",
        "list1.sort()\n",
        "\n",
        "for item in list1:\n",
        "    print(item,end=' ')"
      ]
    },
    {
      "cell_type": "markdown",
      "metadata": {},
      "source": [
        "## Week 5: Programming Assignment 3"
      ]
    },
    {
      "cell_type": "code",
      "execution_count": 69,
      "metadata": {},
      "outputs": [
        {
          "name": "stdout",
          "output_type": "stream",
          "text": [
            "[700]\n",
            "Smallest: 700\n",
            "Largest: 700\n",
            "1"
          ]
        }
      ],
      "source": [
        "l= input().split()\n",
        "for i in range(len(l)):\n",
        "    l[i]=int(l[i])\n",
        "\n",
        "k=int(input())\n",
        "\n",
        "kth_largest=l[(len(l)-k)]\n",
        "kth_smallest=l[(k-1)]\n",
        "\n",
        "middle=int(len(l)/2)\n",
        "\n",
        "if(kth_largest == kth_smallest and (len(l)-k)==(k-1)):\n",
        "    if(kth_largest == l[middle]):\n",
        "        print(1,end='')\n",
        "    else:\n",
        "        print(-1,end='')\n",
        "else:\n",
        "    print(0,end='')\n"
      ]
    },
    {
      "cell_type": "markdown",
      "metadata": {},
      "source": [
        "## Week 6: Programming Assignment 2"
      ]
    },
    {
      "cell_type": "code",
      "execution_count": 3,
      "metadata": {},
      "outputs": [
        {
          "name": "stdout",
          "output_type": "stream",
          "text": [
            "999"
          ]
        }
      ],
      "source": [
        "def recursive_multiply(a, b):\n",
        "    if b == 0:\n",
        "        return 0\n",
        "    else:\n",
        "        return a + recursive_multiply(a, b - 1)\n",
        "\n",
        "a, b = map(int, input().split())\n",
        "\n",
        "print(recursive_multiply(a, b),end='')"
      ]
    },
    {
      "cell_type": "markdown",
      "metadata": {},
      "source": [
        "## Week 6: Programming Assignment 2"
      ]
    },
    {
      "cell_type": "code",
      "execution_count": 9,
      "metadata": {},
      "outputs": [
        {
          "name": "stdout",
          "output_type": "stream",
          "text": [
            "4\n"
          ]
        }
      ],
      "source": [
        "def log_base_2(x):\n",
        "    if x == 1:\n",
        "        return 0\n",
        "    return 1 + log_base_2(x // 2)\n",
        "\n",
        "x = int(input())\n",
        "\n",
        "print(log_base_2(x))"
      ]
    },
    {
      "cell_type": "markdown",
      "metadata": {},
      "source": [
        "## Week 6: Programming Assignment 3"
      ]
    },
    {
      "cell_type": "code",
      "execution_count": null,
      "metadata": {},
      "outputs": [],
      "source": [
        "def non_decreasing(L):\n",
        "    if len(L) <= 1:\n",
        "        return True\n",
        "    if L[0] > L[1]:\n",
        "        return False\n",
        "    return non_decreasing(L[1:])\n",
        "\n",
        "L = list(map(int, input().split()))\n",
        "\n",
        "print(non_decreasing(L),end='')"
      ]
    }
  ],
  "metadata": {
    "kernelspec": {
      "display_name": "Python 3",
      "language": "python",
      "name": "python3"
    },
    "language_info": {
      "codemirror_mode": {
        "name": "ipython",
        "version": 3
      },
      "file_extension": ".py",
      "mimetype": "text/x-python",
      "name": "python",
      "nbconvert_exporter": "python",
      "pygments_lexer": "ipython3",
      "version": "3.11.5"
    }
  },
  "nbformat": 4,
  "nbformat_minor": 4
}
